{
 "cells": [
  {
   "cell_type": "code",
   "execution_count": 1,
   "id": "dbb8b90c",
   "metadata": {},
   "outputs": [],
   "source": [
    "import pandas as pd\n",
    "from math import sqrt"
   ]
  },
  {
   "cell_type": "code",
   "execution_count": 2,
   "id": "bcf0bd61",
   "metadata": {},
   "outputs": [],
   "source": [
    "df = pd.read_json('https://opensky-network.org/api/sensor/list')"
   ]
  },
  {
   "cell_type": "code",
   "execution_count": 3,
   "id": "e2e55319",
   "metadata": {},
   "outputs": [],
   "source": [
    "df['longitude'] = df['position'].apply(lambda pos: pos['longitude'])\n",
    "df['latitude'] = df['position'].apply(lambda pos: pos['latitude'])\n",
    "df['altitude'] = df['position'].apply(lambda pos: pos['altitude'])"
   ]
  },
  {
   "cell_type": "markdown",
   "id": "3f916a6a",
   "metadata": {},
   "source": [
    "## Find closest ADS-B"
   ]
  },
  {
   "cell_type": "code",
   "execution_count": 7,
   "id": "f84fd065",
   "metadata": {},
   "outputs": [],
   "source": [
    "def find_closest(input_lon, input_lat, df):\n",
    "    #this is a quick calculation without considering the earth's curvature\n",
    "    \n",
    "    min_distance = 0.5\n",
    "    closest_index = []\n",
    "     \n",
    "    for index, row in df.iterrows():\n",
    "        position_lat = row['latitude']\n",
    "        position_lon = row['longitude']\n",
    "        \n",
    "        del_lat = input_lat - position_lat\n",
    "        del_lon = input_lon - position_lon\n",
    "        distance = sqrt(del_lat*del_lat + del_lon*del_lon)\n",
    "\n",
    "        if ((distance < min_distance) & (df.loc[index]['online'])):\n",
    "            closest_index.append(df.loc[index]['serial'])\n",
    "            \n",
    "    return closest_index"
   ]
  },
  {
   "cell_type": "code",
   "execution_count": 9,
   "id": "52f55997",
   "metadata": {},
   "outputs": [],
   "source": [
    "lat = 51.507222\n",
    "lon = -0.1275\n",
    "\n",
    "closest_index = find_closest(lon, lat, df)"
   ]
  },
  {
   "cell_type": "code",
   "execution_count": 10,
   "id": "25e98555",
   "metadata": {},
   "outputs": [
    {
     "name": "stdout",
     "output_type": "stream",
     "text": [
      "[-1408236292, -1408235866, -1408235506, -1408234521, -1408234042, -1408234000, -1408233997, -1408232636, -1408232414, -1408232024, -1408231949, 1408231564, -1408231333, -1408231218, -1408230591, -1408230588, -1408230430, -1408230173, -1408230163]\n"
     ]
    }
   ],
   "source": [
    "print(closest_index)"
   ]
  },
  {
   "cell_type": "code",
   "execution_count": 47,
   "id": "6483d92f",
   "metadata": {},
   "outputs": [
    {
     "data": {
      "text/html": [
       "<div>\n",
       "<style scoped>\n",
       "    .dataframe tbody tr th:only-of-type {\n",
       "        vertical-align: middle;\n",
       "    }\n",
       "\n",
       "    .dataframe tbody tr th {\n",
       "        vertical-align: top;\n",
       "    }\n",
       "\n",
       "    .dataframe thead th {\n",
       "        text-align: right;\n",
       "    }\n",
       "</style>\n",
       "<table border=\"1\" class=\"dataframe\">\n",
       "  <thead>\n",
       "    <tr style=\"text-align: right;\">\n",
       "      <th></th>\n",
       "      <th>id</th>\n",
       "      <th>uid</th>\n",
       "      <th>type</th>\n",
       "      <th>operator</th>\n",
       "      <th>serial</th>\n",
       "      <th>active</th>\n",
       "      <th>approved</th>\n",
       "      <th>added</th>\n",
       "      <th>clientMode</th>\n",
       "      <th>position</th>\n",
       "      <th>...</th>\n",
       "      <th>online</th>\n",
       "      <th>lastConnectionEvent</th>\n",
       "      <th>address</th>\n",
       "      <th>hostname</th>\n",
       "      <th>port</th>\n",
       "      <th>tags</th>\n",
       "      <th>deleted</th>\n",
       "      <th>longitude</th>\n",
       "      <th>latitude</th>\n",
       "      <th>altitude</th>\n",
       "    </tr>\n",
       "  </thead>\n",
       "  <tbody>\n",
       "    <tr>\n",
       "      <th>61</th>\n",
       "      <td>371</td>\n",
       "      <td>ONERA_Toulouse</td>\n",
       "      <td>Radarcape</td>\n",
       "      <td></td>\n",
       "      <td>1433801924</td>\n",
       "      <td>True</td>\n",
       "      <td>True</td>\n",
       "      <td>1484006400</td>\n",
       "      <td>True</td>\n",
       "      <td>{'longitude': 1.4, 'latitude': 43.5, 'altitude...</td>\n",
       "      <td>...</td>\n",
       "      <td>True</td>\n",
       "      <td>1690176632</td>\n",
       "      <td></td>\n",
       "      <td></td>\n",
       "      <td>0</td>\n",
       "      <td></td>\n",
       "      <td>False</td>\n",
       "      <td>1.4</td>\n",
       "      <td>43.5</td>\n",
       "      <td>450.0</td>\n",
       "    </tr>\n",
       "  </tbody>\n",
       "</table>\n",
       "<p>1 rows × 23 columns</p>\n",
       "</div>"
      ],
      "text/plain": [
       "     id             uid       type operator      serial  active  approved  \\\n",
       "61  371  ONERA_Toulouse  Radarcape           1433801924    True      True   \n",
       "\n",
       "         added  clientMode                                           position  \\\n",
       "61  1484006400        True  {'longitude': 1.4, 'latitude': 43.5, 'altitude...   \n",
       "\n",
       "    ... online  lastConnectionEvent  address  hostname  port tags deleted  \\\n",
       "61  ...   True           1690176632                        0        False   \n",
       "\n",
       "    longitude latitude  altitude  \n",
       "61        1.4     43.5     450.0  \n",
       "\n",
       "[1 rows x 23 columns]"
      ]
     },
     "execution_count": 47,
     "metadata": {},
     "output_type": "execute_result"
    }
   ],
   "source": [
    "df[df['serial'] == 1433801924]"
   ]
  },
  {
   "cell_type": "code",
   "execution_count": 38,
   "id": "7b822b30",
   "metadata": {},
   "outputs": [
    {
     "data": {
      "text/html": [
       "<div>\n",
       "<style scoped>\n",
       "    .dataframe tbody tr th:only-of-type {\n",
       "        vertical-align: middle;\n",
       "    }\n",
       "\n",
       "    .dataframe tbody tr th {\n",
       "        vertical-align: top;\n",
       "    }\n",
       "\n",
       "    .dataframe thead th {\n",
       "        text-align: right;\n",
       "    }\n",
       "</style>\n",
       "<table border=\"1\" class=\"dataframe\">\n",
       "  <thead>\n",
       "    <tr style=\"text-align: right;\">\n",
       "      <th></th>\n",
       "      <th>id</th>\n",
       "      <th>uid</th>\n",
       "      <th>type</th>\n",
       "      <th>operator</th>\n",
       "      <th>serial</th>\n",
       "      <th>active</th>\n",
       "      <th>approved</th>\n",
       "      <th>added</th>\n",
       "      <th>clientMode</th>\n",
       "      <th>position</th>\n",
       "      <th>...</th>\n",
       "      <th>online</th>\n",
       "      <th>lastConnectionEvent</th>\n",
       "      <th>address</th>\n",
       "      <th>hostname</th>\n",
       "      <th>port</th>\n",
       "      <th>tags</th>\n",
       "      <th>deleted</th>\n",
       "      <th>longitude</th>\n",
       "      <th>latitude</th>\n",
       "      <th>altitude</th>\n",
       "    </tr>\n",
       "  </thead>\n",
       "  <tbody>\n",
       "    <tr>\n",
       "      <th>289</th>\n",
       "      <td>1324</td>\n",
       "      <td>junzis</td>\n",
       "      <td>dump1090</td>\n",
       "      <td></td>\n",
       "      <td>-1408237098</td>\n",
       "      <td>True</td>\n",
       "      <td>True</td>\n",
       "      <td>1513296000</td>\n",
       "      <td>True</td>\n",
       "      <td>{'longitude': 4.3, 'latitude': 51.9, 'altitude...</td>\n",
       "      <td>...</td>\n",
       "      <td>False</td>\n",
       "      <td>1678870604</td>\n",
       "      <td></td>\n",
       "      <td></td>\n",
       "      <td>10001</td>\n",
       "      <td></td>\n",
       "      <td>False</td>\n",
       "      <td>4.3</td>\n",
       "      <td>51.9</td>\n",
       "      <td>50.0</td>\n",
       "    </tr>\n",
       "  </tbody>\n",
       "</table>\n",
       "<p>1 rows × 23 columns</p>\n",
       "</div>"
      ],
      "text/plain": [
       "       id     uid      type operator      serial  active  approved  \\\n",
       "289  1324  junzis  dump1090          -1408237098    True      True   \n",
       "\n",
       "          added  clientMode  \\\n",
       "289  1513296000        True   \n",
       "\n",
       "                                              position  ... online  \\\n",
       "289  {'longitude': 4.3, 'latitude': 51.9, 'altitude...  ...  False   \n",
       "\n",
       "     lastConnectionEvent  address  hostname   port tags deleted  longitude  \\\n",
       "289           1678870604                     10001        False        4.3   \n",
       "\n",
       "    latitude  altitude  \n",
       "289     51.9      50.0  \n",
       "\n",
       "[1 rows x 23 columns]"
      ]
     },
     "execution_count": 38,
     "metadata": {},
     "output_type": "execute_result"
    }
   ],
   "source": [
    "df[(df['uid'] == 'junzis') & (df['type'] == 'dump1090')]"
   ]
  }
 ],
 "metadata": {
  "kernelspec": {
   "display_name": "Python 3 (ipykernel)",
   "language": "python",
   "name": "python3"
  },
  "language_info": {
   "codemirror_mode": {
    "name": "ipython",
    "version": 3
   },
   "file_extension": ".py",
   "mimetype": "text/x-python",
   "name": "python",
   "nbconvert_exporter": "python",
   "pygments_lexer": "ipython3",
   "version": "3.10.12"
  }
 },
 "nbformat": 4,
 "nbformat_minor": 5
}
